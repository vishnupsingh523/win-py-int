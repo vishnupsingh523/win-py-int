{
 "cells": [
  {
   "cell_type": "code",
   "execution_count": 2,
   "metadata": {},
   "outputs": [
    {
     "data": {
      "text/plain": [
       "True"
      ]
     },
     "execution_count": 2,
     "metadata": {},
     "output_type": "execute_result"
    }
   ],
   "source": [
    "import webbrowser\n",
    "\n",
    "#you can also enter your github username here\n",
    "url = 'https://github.com/vishnupsingh523'\n",
    "\n",
    "webbrowser.register('chrome',\n",
    "    None,\n",
    "    webbrowser.BackgroundBrowser(\"C://Program Files (x86)//Google//Chrome//Application//chrome.exe\"))\n",
    "\n",
    "#using this the url will open in the chrome and if the chrome is already running then it will open it in a new tab\n",
    "#and then it returns the true value.\n",
    "webbrowser.get('chrome').open(url)\n"
   ]
  },
  {
   "cell_type": "code",
   "execution_count": null,
   "metadata": {},
   "outputs": [],
   "source": []
  }
 ],
 "metadata": {
  "kernelspec": {
   "display_name": "Python 3",
   "language": "python",
   "name": "python3"
  },
  "language_info": {
   "codemirror_mode": {
    "name": "ipython",
    "version": 3
   },
   "file_extension": ".py",
   "mimetype": "text/x-python",
   "name": "python",
   "nbconvert_exporter": "python",
   "pygments_lexer": "ipython3",
   "version": "3.7.4"
  }
 },
 "nbformat": 4,
 "nbformat_minor": 2
}
